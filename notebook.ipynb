{
 "cells": [
  {
   "cell_type": "code",
   "execution_count": 111,
   "metadata": {},
   "outputs": [],
   "source": [
    "import numpy as np\n",
    "import pandas as pd\n",
    "import matplotlib.pyplot as plt\n",
    "import h5py\n",
    "import os"
   ]
  },
  {
   "cell_type": "markdown",
   "metadata": {},
   "source": [
    "### Load .npy files containing the rotation and translation matrices"
   ]
  },
  {
   "cell_type": "code",
   "execution_count": 109,
   "metadata": {},
   "outputs": [
    {
     "name": "stdout",
     "output_type": "stream",
     "text": [
      "[[-0.04492951  0.01733574 -0.01538122]\n",
      " [ 0.01309866 -0.00928712 -0.05094218]\n",
      " [ 0.01593968 -0.00631493  0.00330374]]\n"
     ]
    }
   ],
   "source": [
    "# Load the .npy file\n",
    "rot_data = np.load(\"log/modelnet_noisy/test_paper/rotations.npy\")\n",
    "rot_gt = np.load(\"log/modelnet_noisy/test_paper/rotations_gt.npy\")\n",
    "translation_data = np.load(\"log/modelnet_noisy/test_paper/translations.npy\")\n",
    "translation_gt = np.load(\"log/modelnet_noisy/test_paper/translations_gt.npy\")\n",
    "# Print or inspect the data\n",
    "print(rot_gt[0] - rot_data[0]);\n",
    "\n",
    "# # Ensure the directory exists\n",
    "# os.makedirs(\"transformation/rotation\", exist_ok=True)\n",
    "# # Save DeepGMR rotation matrix\n",
    "# np.savetxt(\"transformation/rotation/rotation_0.csv\", rot_data[0], delimiter=\",\")\n",
    "# # print(data_gt[0])  # Should be a NumPy array"
   ]
  },
  {
   "cell_type": "code",
   "execution_count": null,
   "metadata": {},
   "outputs": [],
   "source": [
    "# translation_data = np.load(\"log/modelnet_noisy/test_paper/translations.npy\")\n",
    "# translation_gt = np.load(\"log/modelnet_noisy/test_paper/translations_gt.npy\")\n",
    "\n",
    "# # Ensure the directory exists\n",
    "# os.makedirs(\"transformation/translation\", exist_ok=True)\n",
    "# # Save DeepGMR rotation matrix\n",
    "# np.savetxt(\"transformation/translation/translation_0.csv\", translation_data[0], delimiter=\",\")"
   ]
  },
  {
   "cell_type": "code",
   "execution_count": null,
   "metadata": {},
   "outputs": [
    {
     "name": "stdout",
     "output_type": "stream",
     "text": [
      "[[ 0.1416055  -0.47654769 -0.86766928 -0.09883341]\n",
      " [ 0.89837694 -0.30626968  0.31482884 -0.02494752]\n",
      " [-0.41577217 -0.82407552  0.38474998 -0.1051932 ]\n",
      " [ 0.          0.          0.          1.        ]]\n"
     ]
    }
   ],
   "source": [
    "# transformation_mat = np.hstack((data[0], translation_reshape))\t# Concatenate the rotation and translation matrices\t\n",
    "# transformation_mat = np.vstack((transformation_mat, [0, 0, 0, 1]))\t# Add the last row of the transformation matrix\n",
    "# print(transformation_mat)\n",
    "# np.savetxt(\"transformation/transformation_0.txt\", transformation_mat, delimiter=\" \")"
   ]
  },
  {
   "cell_type": "markdown",
   "metadata": {},
   "source": [
    "### Reconstruct transformation matrices from rotation and translation information"
   ]
  },
  {
   "cell_type": "code",
   "execution_count": 79,
   "metadata": {},
   "outputs": [],
   "source": [
    "def build_transform_mat(rot_data, trans_data):\n",
    "    # Ensure the directory exists\n",
    "    os.makedirs(\"transformation/transformation_matrices\", exist_ok=True)\n",
    "    \n",
    "    for i in range(len(trans_data)):\n",
    "        rotation_mat = rot_data[i]\n",
    "        translation_mat = np.reshape(trans_data[i], (3, 1))\n",
    "        transformation_mat = np.hstack((rotation_mat, translation_mat))\t# Concatenate the rotation and translation matrices\t\n",
    "        transformation_mat = np.vstack((transformation_mat, [0, 0, 0, 1]))\t# Add the last row of the transformation matrix\n",
    "        np.savetxt(\"transformation/transformation_matrices/\" + str(i) + \".txt\", transformation_mat, delimiter=\" \")  "
   ]
  },
  {
   "cell_type": "code",
   "execution_count": 80,
   "metadata": {},
   "outputs": [],
   "source": [
    "build_transform_mat(rot_data=rot_data, trans_data=translation_data)"
   ]
  },
  {
   "cell_type": "markdown",
   "metadata": {},
   "source": [
    "### Import and convert test data from .h5 to .csv compatible with Cloudcompare"
   ]
  },
  {
   "cell_type": "code",
   "execution_count": null,
   "metadata": {},
   "outputs": [
    {
     "name": "stdout",
     "output_type": "stream",
     "text": [
      "['label', 'source', 'target', 'transform']\n"
     ]
    }
   ],
   "source": [
    "# Load test data from h5 file & check headers\n",
    "file_path = \"data/test/modelnet_noisy.h5\"\n",
    "f = h5py.File(file_path, 'r')\n",
    "print(list(f.keys()))"
   ]
  },
  {
   "cell_type": "code",
   "execution_count": null,
   "metadata": {},
   "outputs": [
    {
     "name": "stdout",
     "output_type": "stream",
     "text": [
      "Labels: [0 0 0 0 0]\n",
      "Source points shape: (2464, 5000, 3)\n",
      "Target points shape: (2464, 5000, 3)\n",
      "Transform shape: (2464, 4, 4)\n"
     ]
    }
   ],
   "source": [
    "# Check shape of data per header\n",
    "with h5py.File(file_path, 'r') as f:\n",
    "    print(\"Labels:\", f['label'][:5])  # First 5 labels\n",
    "    print(\"Source points shape:\", f['source'].shape)  # Shape of source\n",
    "    print(\"Target points shape:\", f['target'].shape)  # Shape of target\n",
    "    print(\"Transform shape:\", f['transform'].shape)  # Shape of transform"
   ]
  },
  {
   "cell_type": "code",
   "execution_count": 94,
   "metadata": {},
   "outputs": [
    {
     "name": "stdout",
     "output_type": "stream",
     "text": [
      "(2464, 5000, 3)\n"
     ]
    },
    {
     "data": {
      "text/plain": [
       "(5000, 3)"
      ]
     },
     "execution_count": 94,
     "metadata": {},
     "output_type": "execute_result"
    }
   ],
   "source": [
    "# Export object to CSV\n",
    "csv_output_path = \"target.csv\"\n",
    "\n",
    "# Open the HDF5 file and read the dataset\n",
    "with h5py.File(file_path, 'r') as f:\n",
    "    data = f['target'][0,:]  # Read the full dataset\n",
    "    print(np.shape(f['target']))\n",
    "\n",
    "# Convert to a pandas DataFrame\n",
    "df = pd.DataFrame(data, columns=['X', 'Y', 'Z'])  # Name columns if applicable\n",
    "\n",
    "# # Save as CSV\n",
    "# df.to_csv(csv_output_path, index=False)\n",
    "df.shape\n",
    "# print(f\"Saved CSV to {csv_output_path}\")"
   ]
  },
  {
   "cell_type": "markdown",
   "metadata": {},
   "source": [
    "### Extract test objects to CSV:"
   ]
  },
  {
   "cell_type": "code",
   "execution_count": 104,
   "metadata": {},
   "outputs": [],
   "source": [
    "def extract_object_to_csv(file_path, output_folder, object_type):\n",
    "    '''\n",
    "    file_path: str, path to the .h5 file\n",
    "    Object_type: str, 'source' or 'target'\n",
    "    filename: str, name of the file to save the data to\n",
    "    output_path: str, path to the directory to save the file\n",
    "\n",
    "    output file: output_folder/filename.txt\n",
    "    '''\n",
    "    # Ensure the directory exists\n",
    "    os.makedirs(output_folder, exist_ok=True)\n",
    "\n",
    "    with h5py.File(file_path, 'r') as f:\n",
    "        for i in range(len(f[object_type])):\n",
    "            data = f[object_type][i,:]  # \n",
    "            df = pd.DataFrame(data, columns=['X', 'Y', 'Z'])\n",
    "            df.to_csv(f'{output_folder}/{object_type}_{i}.txt', index = False)\n",
    "\n"
   ]
  },
  {
   "cell_type": "code",
   "execution_count": 106,
   "metadata": {},
   "outputs": [],
   "source": [
    "extract_object_to_csv('data/test/modelnet_noisy.h5', 'objects/modelnet_noisy/target', 'target')"
   ]
  }
 ],
 "metadata": {
  "kernelspec": {
   "display_name": "alaiment",
   "language": "python",
   "name": "python3"
  },
  "language_info": {
   "codemirror_mode": {
    "name": "ipython",
    "version": 3
   },
   "file_extension": ".py",
   "mimetype": "text/x-python",
   "name": "python",
   "nbconvert_exporter": "python",
   "pygments_lexer": "ipython3",
   "version": "3.10.16"
  }
 },
 "nbformat": 4,
 "nbformat_minor": 2
}
